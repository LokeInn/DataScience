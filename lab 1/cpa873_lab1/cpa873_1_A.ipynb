{
 "cells": [
  {
   "cell_type": "code",
   "execution_count": 3,
   "id": "dc9e5bcd",
   "metadata": {},
   "outputs": [
    {
     "name": "stdout",
     "output_type": "stream",
     "text": [
      "          0     1       2      3       4       5         6        7      8   \\\n",
      "0    0.00632  18.0   2.310  0.000  0.5380   6.575   65.2000   4.0900    1.0   \n",
      "1    0.00000   0.0   0.469  6.421  4.9671   2.000  242.0000  17.8000  396.9   \n",
      "2    0.02729   0.0   7.070  0.000  0.4690   7.185   61.1000   4.9671    2.0   \n",
      "3    0.03237   0.0   2.180  0.000  0.4580   6.998   45.8000   6.0622    3.0   \n",
      "4    0.06905   0.0   0.000  0.458  7.1470  54.200    6.0622   3.0000  222.0   \n",
      "..       ...   ...     ...    ...     ...     ...       ...      ...    ...   \n",
      "501  0.06263   0.0  11.930  0.000  0.5730   6.593   69.1000   2.4786    1.0   \n",
      "502  0.04527   0.0  20.600    NaN     NaN     NaN       NaN      NaN    NaN   \n",
      "503  0.06076   0.0  11.930  0.000  0.5730   6.976   91.0000   2.1675    1.0   \n",
      "504  0.10959   0.0  11.930  0.000  0.5730   6.794   89.3000   2.3889    1.0   \n",
      "505  0.04741   0.0  11.930  0.000  0.5730   6.030   80.8000   2.5050    1.0   \n",
      "\n",
      "         9      10      11     12    13  \n",
      "0    296.00   15.3  396.90   4.98  24.0  \n",
      "1      9.14   21.6     NaN    NaN   NaN  \n",
      "2    242.00   17.8  392.83   4.03  34.7  \n",
      "3    222.00   18.7  394.63   2.94  33.4  \n",
      "4     18.70  396.9    5.33  36.20   NaN  \n",
      "..      ...    ...     ...    ...   ...  \n",
      "501  273.00   21.0  391.99   9.67  22.4  \n",
      "502     NaN    NaN     NaN    NaN   NaN  \n",
      "503  273.00   21.0  396.90   5.64  23.9  \n",
      "504  273.00   21.0  393.45   6.48  22.0  \n",
      "505  273.00   21.0  396.90   7.88  11.9  \n",
      "\n",
      "[506 rows x 14 columns]\n"
     ]
    }
   ],
   "source": [
    "import pandas as pd\n",
    "import numpy as np\n",
    "\n",
    "\n",
    "dataset = pd.read_csv('housing.data1.txt',header = None, sep = '\\s+' )\n",
    "\n",
    "print(dataset)"
   ]
  },
  {
   "cell_type": "code",
   "execution_count": 4,
   "id": "5998c6d8",
   "metadata": {
    "scrolled": true
   },
   "outputs": [
    {
     "name": "stdout",
     "output_type": "stream",
     "text": [
      "        0     1      2      3       4       5         6        7      8   \\\n",
      "0  0.00632  18.0  2.310  0.000  0.5380   6.575   65.2000   4.0900    1.0   \n",
      "1  0.00000   0.0  0.469  6.421  4.9671   2.000  242.0000  17.8000  396.9   \n",
      "2  0.02729   0.0  7.070  0.000  0.4690   7.185   61.1000   4.9671    2.0   \n",
      "3  0.03237   0.0  2.180  0.000  0.4580   6.998   45.8000   6.0622    3.0   \n",
      "4  0.06905   0.0  0.000  0.458  7.1470  54.200    6.0622   3.0000  222.0   \n",
      "\n",
      "       9      10      11     12    13  \n",
      "0  296.00   15.3  396.90   4.98  24.0  \n",
      "1    9.14   21.6     NaN    NaN   NaN  \n",
      "2  242.00   17.8  392.83   4.03  34.7  \n",
      "3  222.00   18.7  394.63   2.94  33.4  \n",
      "4   18.70  396.9    5.33  36.20   NaN  \n"
     ]
    }
   ],
   "source": [
    "print(dataset.head(5))"
   ]
  },
  {
   "cell_type": "code",
   "execution_count": 5,
   "id": "b96387ca",
   "metadata": {},
   "outputs": [
    {
     "name": "stdout",
     "output_type": "stream",
     "text": [
      "True\n"
     ]
    }
   ],
   "source": [
    "check_nan = dataset.isnull().values.any()\n",
    "print(check_nan)"
   ]
  },
  {
   "cell_type": "code",
   "execution_count": 7,
   "id": "d3fceadb",
   "metadata": {},
   "outputs": [],
   "source": [
    "from sklearn.impute import SimpleImputer\n",
    "imputer = SimpleImputer(missing_values=np.nan, strategy = 'mean')\n",
    "\n",
    "#just want column 1 and 2\n",
    "imputer = imputer.fit(dataset)\n",
    "array_has_nan = imputer.transform(dataset)"
   ]
  },
  {
   "cell_type": "code",
   "execution_count": 8,
   "id": "3d364ce4",
   "metadata": {},
   "outputs": [
    {
     "name": "stdout",
     "output_type": "stream",
     "text": [
      "[[6.32000000e-03 1.80000000e+01 2.31000000e+00 ... 3.96900000e+02\n",
      "  4.98000000e+00 2.40000000e+01]\n",
      " [0.00000000e+00 0.00000000e+00 4.69000000e-01 ... 3.49281783e+02\n",
      "  1.29052049e+01 2.25598739e+01]\n",
      " [2.72900000e-02 0.00000000e+00 7.07000000e+00 ... 3.92830000e+02\n",
      "  4.03000000e+00 3.47000000e+01]\n",
      " ...\n",
      " [6.07600000e-02 0.00000000e+00 1.19300000e+01 ... 3.96900000e+02\n",
      "  5.64000000e+00 2.39000000e+01]\n",
      " [1.09590000e-01 0.00000000e+00 1.19300000e+01 ... 3.93450000e+02\n",
      "  6.48000000e+00 2.20000000e+01]\n",
      " [4.74100000e-02 0.00000000e+00 1.19300000e+01 ... 3.96900000e+02\n",
      "  7.88000000e+00 1.19000000e+01]]\n"
     ]
    }
   ],
   "source": [
    "print(array_has_nan)"
   ]
  },
  {
   "cell_type": "code",
   "execution_count": null,
   "id": "79db8b21",
   "metadata": {},
   "outputs": [],
   "source": []
  }
 ],
 "metadata": {
  "kernelspec": {
   "display_name": "Python 3",
   "language": "python",
   "name": "python3"
  },
  "language_info": {
   "codemirror_mode": {
    "name": "ipython",
    "version": 3
   },
   "file_extension": ".py",
   "mimetype": "text/x-python",
   "name": "python",
   "nbconvert_exporter": "python",
   "pygments_lexer": "ipython3",
   "version": "3.8.8"
  }
 },
 "nbformat": 4,
 "nbformat_minor": 5
}
