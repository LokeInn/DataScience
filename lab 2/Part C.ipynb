{
 "cells": [
  {
   "cell_type": "code",
   "execution_count": 1,
   "id": "31d16d16",
   "metadata": {},
   "outputs": [],
   "source": [
    "import numpy as np\n",
    "import pandas as pd\n",
    "import matplotlib.pyplot as plt\n",
    "import pandas as pd  \n",
    "import seaborn as sns \n",
    "\n",
    "\n",
    "%matplotlib inline"
   ]
  },
  {
   "cell_type": "code",
   "execution_count": 2,
   "id": "3333de73",
   "metadata": {},
   "outputs": [
    {
     "name": "stdout",
     "output_type": "stream",
     "text": [
      "      CRIM    ZN  INDUS  CHAS    NOX     RM   AGE     DIS  RAD    TAX  \\\n",
      "0  0.00632  18.0   2.31     0  0.538  6.575  65.2  4.0900    1  296.0   \n",
      "1  0.02731   0.0   7.07     0  0.469  6.421  78.9  4.9671    2  242.0   \n",
      "2  0.02729   0.0   7.07     0  0.469  7.185  61.1  4.9671    2  242.0   \n",
      "3  0.03237   0.0   2.18     0  0.458  6.998  45.8  6.0622    3  222.0   \n",
      "4  0.06905   0.0   2.18     0  0.458  7.147  54.2  6.0622    3  222.0   \n",
      "\n",
      "   PTRATIO       B  LSTAT  MEDV  \n",
      "0     15.3  396.90   4.98  24.0  \n",
      "1     17.8  396.90   9.14  21.6  \n",
      "2     17.8  392.83   4.03  34.7  \n",
      "3     18.7  394.63   2.94  33.4  \n",
      "4     18.7  396.90   5.33  36.2  \n"
     ]
    }
   ],
   "source": [
    "data = pd.read_csv('housing.data2.txt', header=None, sep='\\s+')\n",
    "data.columns = ['CRIM', 'ZN', 'INDUS', 'CHAS', 'NOX', 'RM', 'AGE', 'DIS', 'RAD', 'TAX', 'PTRATIO', 'B', 'LSTAT', 'MEDV']\n",
    "print(data.head(5))"
   ]
  },
  {
   "cell_type": "code",
   "execution_count": 3,
   "id": "ba31c662",
   "metadata": {},
   "outputs": [
    {
     "data": {
      "text/plain": [
       "CRIM       0\n",
       "ZN         0\n",
       "INDUS      0\n",
       "CHAS       0\n",
       "NOX        0\n",
       "RM         0\n",
       "AGE        0\n",
       "DIS        0\n",
       "RAD        0\n",
       "TAX        0\n",
       "PTRATIO    0\n",
       "B          0\n",
       "LSTAT      0\n",
       "MEDV       0\n",
       "dtype: int64"
      ]
     },
     "execution_count": 3,
     "metadata": {},
     "output_type": "execute_result"
    }
   ],
   "source": [
    "data.isnull().sum()  #check if there are missing values"
   ]
  },
  {
   "cell_type": "code",
   "execution_count": 4,
   "id": "9ca6b3bf",
   "metadata": {},
   "outputs": [
    {
     "data": {
      "image/png": "[encoded data removed]",
      "text/plain": [
       "<Figure size 1440x360 with 1 Axes>"
      ]
     },
     "metadata": {
      "needs_background": "light"
     },
     "output_type": "display_data"
    }
   ],
   "source": [
    "plt.figure(figsize=(20, 5))\n",
    "\n",
    "features = ['LSTAT']\n",
    "target = data['MEDV']\n",
    "\n",
    "for i, col in enumerate(features):\n",
    "    plt.subplot(1, len(features) , i+1)\n",
    "    x = data[col]\n",
    "    y = target\n",
    "    plt.scatter(x, y, marker='o')\n",
    "    plt.title(col)\n",
    "    plt.xlabel(col)\n",
    "    plt.ylabel('MEDV')\n"
   ]
  },
  {
   "cell_type": "code",
   "execution_count": 15,
   "id": "8bc6a083",
   "metadata": {
    "scrolled": true
   },
   "outputs": [],
   "source": [
    "from sklearn.linear_model import LinearRegression\n",
    "from sklearn.model_selection import train_test_split\n",
    "from sklearn import linear_model\n",
    "from sklearn.preprocessing import PolynomialFeatures\n",
    "from sklearn import linear_model\n",
    "from sklearn.metrics import mean_squared_error, r2_score\n",
    "data2 = pd.DataFrame()\n",
    "data2['LSTAT'], data2['MEDV'] = data['LSTAT'], data['MEDV']"
   ]
  },
  {
   "cell_type": "code",
   "execution_count": 16,
   "id": "6722a281",
   "metadata": {},
   "outputs": [
    {
     "name": "stdout",
     "output_type": "stream",
     "text": [
      "r2_score or quadratic : 0.521138198706222\n"
     ]
    }
   ],
   "source": [
    "#for linear regression\n",
    "X_train, X_test, y_train, y_test = train_test_split(data2['MEDV'], data['LSTAT'])\n",
    "\n",
    "X_train_data, X_test_data = pd.DataFrame(X_train), pd.DataFrame(X_test)\n",
    "\n",
    "x_axis = np.arange(0, 50, 0.1)\n",
    "\n",
    "\n",
    "#quadpoly\n",
    "quadpoly = PolynomialFeatures(degree = 2)\n",
    "X_train_poly, X_test_poly= quadpoly.fit_transform(X_train_data), quadpoly.fit_transform(X_test_data)\n",
    "model = linear_model.LinearRegression()\n",
    "model = model.fit(X_train_poly, y_train)\n",
    "coefficient = model.coef_\n",
    "intercept = model.intercept_\n",
    "\n",
    "#y_test_predict_lin = lin_model.predict(X_test)\n",
    "#r2 linear regression test\n",
    "#r2 = r2_score(Y_test_lin, y_test_predict_lin)\n",
    "#print('R2 score for lineare regression is {}'.format(r2))\n",
    "\n",
    "predictionquad = model.predict(X_test_poly)#prediction quad poly\n",
    "quad = intercept + coefficient[1] * x_axis + coefficient[2] * x_axis **2\n"
   ]
  },
  {
   "cell_type": "code",
   "execution_count": 37,
   "id": "2a991844",
   "metadata": {},
   "outputs": [],
   "source": [
    "lin = PolynomialFeatures(degree = 1)\n",
    "X_train_lin, X_test_lin= lin.fit_transform(X_train_data), lin.fit_transform(X_test_data)\n",
    "modellin = linear_model.LinearRegression()\n",
    "modellin = modellin.fit(X_train_lin, y_train)\n",
    "coefficientlin = modellin.coef_\n",
    "interceptlin = modellin.intercept_\n",
    "\n",
    "predictionlin = modellin.predict(X_test_lin)\n",
    "\n"
   ]
  },
  {
   "cell_type": "code",
   "execution_count": 45,
   "id": "bfa11878",
   "metadata": {},
   "outputs": [],
   "source": [
    "#cubic poly\n",
    "cubicpoly = PolynomialFeatures(degree = 3)\n",
    "X_train_polycubic, X_test_polycubic= cubicpoly.fit_transform(X_train_data), cubicpoly.fit_transform(X_test_data)\n",
    "modelcub = linear_model.LinearRegression()\n",
    "modelcub = modelcub.fit(X_train_polycubic, y_train)\n",
    "\n",
    "coefficientcub = modelcub.coef_\n",
    "interceptcub = modelcub.intercept_\n",
    "\n",
    "predictioncub = modelcub.predict(X_test_polycubic)#prediction cub poly\n",
    "\n",
    "coef1= coefficientcub[1] * x_axis\n",
    "coef2=coefficientcub[2] * x_axis **2\n",
    "coef3 = coefficientcub[3]* x_axis **3\n",
    "cubic = interceptcub + coef1 + coef2 + coef3\n"
   ]
  },
  {
   "cell_type": "code",
   "execution_count": 47,
   "id": "31d51a7e",
   "metadata": {},
   "outputs": [
    {
     "name": "stdout",
     "output_type": "stream",
     "text": [
      "r2_score or quadratic : 0.521138198706222\n",
      "r2_score or linear : 0.105004926550892\n",
      "r2_score or cubic : 0.5212647674941248\n"
     ]
    },
    {
     "data": {
      "image/png": "[encoded data removed]",
      "text/plain": [
       "<Figure size 432x288 with 1 Axes>"
      ]
     },
     "metadata": {
      "needs_background": "light"
     },
     "output_type": "display_data"
    }
   ],
   "source": [
    "import matplotlib.pyplot as plt\n",
    "import numpy as np\n",
    "from sklearn.metrics import mean_squared_error, r2_score\n",
    "\n",
    "#x_axis = np.arange(5, 50, 0.1)\n",
    "\n",
    "\n",
    "lin = interceptlin + coefficientlin[1] * x_axis \n",
    "#quad = intercept + coefficient[1] * x_axis + coefficient[2] * x_axis **2\n",
    "#cubic = interceptcub + coefficientcub[1] * x_axis + (coefficientcub[2] * x_axis **2) + (coefficientcub[3]*np.power(x_axis, 3))\n",
    "\n",
    "#r2 score for the quad\n",
    "r2 = r2_score(predictionquad, y_test)\n",
    "print(\"r2_score or quadratic :\", r2)\n",
    "\n",
    "#r2 score for the linear\n",
    "r2b = r2_score(predictionlin, y_test)\n",
    "print(\"r2_score or linear :\", r2b)\n",
    "\n",
    "#r2 score for the cubic\n",
    "r2c = r2_score(predictioncub, y_test)\n",
    "print(\"r2_score or cubic :\", r2c)\n",
    "\n",
    "plt.scatter(data2['MEDV'], data2['LSTAT'])\n",
    "plt.plot(x_axis, cubic, color = 'y')\n",
    "plt.plot(x_axis, lin, color = 'orange')\n",
    "plt.plot(x_axis, quad, color = 'r')\n",
    "\n",
    "#plt.legend\n",
    "plt.show()\n"
   ]
  },
  {
   "cell_type": "code",
   "execution_count": 14,
   "id": "1a143c03",
   "metadata": {},
   "outputs": [
    {
     "name": "stdout",
     "output_type": "stream",
     "text": [
      "the quadratic seems to fit the best but mainly because i could not graph the cubic linear for some reosn. \n"
     ]
    }
   ],
   "source": [
    "print('the quadratic seems to fit the best but mainly because i could not graph the cubic linear for some reosn. ')"
   ]
  },
  {
   "cell_type": "code",
   "execution_count": null,
   "id": "2e824fcb",
   "metadata": {},
   "outputs": [],
   "source": []
  }
 ],
 "metadata": {
  "kernelspec": {
   "display_name": "Python 3",
   "language": "python",
   "name": "python3"
  },
  "language_info": {
   "codemirror_mode": {
    "name": "ipython",
    "version": 3
   },
   "file_extension": ".py",
   "mimetype": "text/x-python",
   "name": "python",
   "nbconvert_exporter": "python",
   "pygments_lexer": "ipython3",
   "version": "3.8.8"
  }
 },
 "nbformat": 4,
 "nbformat_minor": 5
}
